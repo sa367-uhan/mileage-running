{
 "cells": [
  {
   "cell_type": "markdown",
   "metadata": {},
   "source": [
    "<span class='note'>*Make me look good.* Click on the cell below and press <kbd>Ctrl</kbd>-<kbd>Enter</kbd>.</span>"
   ]
  },
  {
   "cell_type": "code",
   "execution_count": null,
   "metadata": {
    "collapsed": false
   },
   "outputs": [],
   "source": [
    "from IPython.core.display import HTML\n",
    "def css_styling():\n",
    "    styles = open('css/custom.css', 'r').read()\n",
    "    return HTML(styles)\n",
    "css_styling()"
   ]
  },
  {
   "cell_type": "markdown",
   "metadata": {},
   "source": [
    "<h5 class='prehead'>SA367 &middot; Mathematical Models for Decision Making &middot; Spring 2017 &middot; Uhan</h5>\n",
    "\n",
    "<h5 class='lesson'>Lesson 6.</h5>\n",
    "\n",
    "<h1 class='lesson_title'>The Mileage Running Problem</h1>"
   ]
  },
  {
   "cell_type": "markdown",
   "metadata": {},
   "source": [
    "## The problem"
   ]
  },
  {
   "cell_type": "markdown",
   "metadata": {},
   "source": [
    "Professor May B. Wright needs to fly from Baltimore (BWI) to Los Angeles (LAX) to attend a conference.\n",
    "She thinks this would be the perfect opportunity to accumulate some frequent flyer miles on American Airlines (AA), where she already has Platinum status.\n",
    "\n",
    "Looking into flights on AA, she sees that every itinerary from BWI to LAX costs roughly the same.\n",
    "She has a full day to spare for travel, so she wants to know: which sequence of AA domestic flights starting at BWI and ending at LAX over the course of one day will allow her to accumulate the most miles?"
   ]
  },
  {
   "cell_type": "markdown",
   "metadata": {},
   "source": [
    "* Yes, people actually do this. This is known as __mileage running__. \n",
    "    - Apparently, this has become harder to do in recent years.\n",
    "    - [A recent article from the New York Times](https://www.nytimes.com/2014/09/14/upshot/the-fadeout-of-the-mileage-run.html).\n",
    "    - [An older article from Wired](https://www.wired.com/2007/07/mileage-runner/)."
   ]
  },
  {
   "cell_type": "markdown",
   "metadata": {},
   "source": [
    "## Modeling the problem"
   ]
  },
  {
   "cell_type": "markdown",
   "metadata": {},
   "source": [
    "* Suppose we have a database of every AA domestic flight on a given day.\n",
    "\n",
    "* In particular, for each flight, we have:\n",
    "    - the flight number\n",
    "    - the origin airport\n",
    "    - the destination airport\n",
    "    - the departure time at the origin airport\n",
    "    - the arrival time at the destination airport\n",
    "    - the distance traveled in miles\n",
    "\n",
    "* How can we formulate Professor Wright's problem as a shortest path problem?"
   ]
  },
  {
   "cell_type": "markdown",
   "metadata": {},
   "source": [
    "## pandas (the package, not the animals)"
   ]
  },
  {
   "cell_type": "markdown",
   "metadata": {},
   "source": [
    "* In the same folder as this notebook, there is a file called `aa_domestic_flights.csv` with the database described above.\n",
    "\n",
    "* `.csv` stands for **comma-separated values**.\n",
    "\n",
    "* We can view `.csv` files in Excel - let's see what's in this file. _Cut to Excel..._"
   ]
  },
  {
   "cell_type": "markdown",
   "metadata": {},
   "source": [
    "* How can we use this data in Python? With __`pandas`__.\n",
    "\n",
    "* `pandas` is a Python package for data analysis. \n",
    "    - It's especially useful for cleaning, merging, and manipulating datasets.\n",
    "\n",
    "* `pandas` does a lot of stuff &mdash; here are a few resources:\n",
    "    - [Here is the documentation for `pandas`](http://pandas.pydata.org/pandas-docs/stable/index.html).\n",
    "    - [Chris Albon's notes](http://chrisalbon.com) are also a good resource on how to get things done with `pandas` (look in the _Data Wrangling_ section). \n",
    "    \n",
    "* In this lesson, we'll use `pandas` in a very basic way to help us set up the shortest path problem we formulated above."
   ]
  },
  {
   "cell_type": "markdown",
   "metadata": {},
   "source": [
    "* To install `pandas`, open a <span class=\"rred\">WinPython Command Prompt</span> and type\n",
    "\n",
    "```\n",
    "pip install pandas\n",
    "```\n",
    "\n",
    "* `pip` might tell you that `pandas` is already installed. If not, it should go ahead and install it for you.\n",
    "\n",
    "* To use `pandas`, we first need to import it, like this:"
   ]
  },
  {
   "cell_type": "code",
   "execution_count": null,
   "metadata": {
    "collapsed": true
   },
   "outputs": [],
   "source": [
    "import pandas as pd"
   ]
  },
  {
   "cell_type": "markdown",
   "metadata": {},
   "source": [
    "* A `pandas` __DataFrame__ is just a two-dimensional table, with rows and columns.\n",
    "\n",
    "* The code below uses the __`read_csv()`__ function in `pandas` to read `aa_domestic_flights.csv` into a DataFrame called `df`.\n",
    "    - [Documentation for `read_csv()`](http://pandas.pydata.org/pandas-docs/stable/generated/pandas.read_csv.html)"
   ]
  },
  {
   "cell_type": "code",
   "execution_count": null,
   "metadata": {
    "collapsed": false
   },
   "outputs": [],
   "source": [
    "df = pd.read_csv('aa_domestic_flights.csv', parse_dates=['DEP_TIME', 'ARR_TIME'])"
   ]
  },
  {
   "cell_type": "markdown",
   "metadata": {},
   "source": [
    "* By default, `read_csv()` assumes the names of each column are in the first row.\n",
    "\n",
    "* The `parse_dates` argument above tells `read_csv()` which columns correspond to dates, so that we can perform date-specific calculations on these columns later.\n",
    "\n",
    "* It's a good idea to take a quick look at the DataFrame `read_csv()` creates, just in case something went wrong.\n",
    "\n",
    "* To examine the first 5 rows of a DataFrame, we can use the `.head()` method:"
   ]
  },
  {
   "cell_type": "code",
   "execution_count": null,
   "metadata": {
    "collapsed": false
   },
   "outputs": [],
   "source": [
    "# Print the first 5 rows of df\n",
    "df.head()"
   ]
  },
  {
   "cell_type": "markdown",
   "metadata": {},
   "source": [
    "* Another useful methods is `.describe()`. \n",
    "\n",
    "* By default, `.describe()` only provides summary statistics for the columns with numeric data. \n",
    "\n",
    "* To get summary statistics on all the columns, we need to include the argument `include=\"all\"`, like this:"
   ]
  },
  {
   "cell_type": "code",
   "execution_count": null,
   "metadata": {
    "collapsed": false
   },
   "outputs": [],
   "source": [
    "df.describe(include=\"all\")"
   ]
  },
  {
   "cell_type": "markdown",
   "metadata": {
    "collapsed": false
   },
   "source": [
    "* A column by itself is called a **Series**.\n",
    "\n",
    "* You can select the `DEST` column or Series of the DataFrame `df` like this:\n",
    "\n",
    "```\n",
    "df[\"DEST\"]\n",
    "```\n",
    "\n",
    "* So, to print the `DEST` Series, we could write:"
   ]
  },
  {
   "cell_type": "code",
   "execution_count": null,
   "metadata": {
    "collapsed": false
   },
   "outputs": [],
   "source": [
    "# Print the DEP_TIME column\n",
    "print(df[\"DEST\"])"
   ]
  },
  {
   "cell_type": "markdown",
   "metadata": {},
   "source": [
    "## Setting up the shortest path problem in networkx"
   ]
  },
  {
   "cell_type": "markdown",
   "metadata": {},
   "source": [
    "* Now that we can access the flight database in Python, we can use its contents to setup the shortest path problem we formulated above.\n",
    "\n",
    "* First, let's import `networkx` and `bellmanford` so we can use them:"
   ]
  },
  {
   "cell_type": "code",
   "execution_count": null,
   "metadata": {
    "collapsed": false
   },
   "outputs": [],
   "source": [
    "import networkx as nx\n",
    "import bellmanford as bf"
   ]
  },
  {
   "cell_type": "markdown",
   "metadata": {},
   "source": [
    "### Getting a list of flights and airports"
   ]
  },
  {
   "cell_type": "markdown",
   "metadata": {},
   "source": [
    "* It will be useful to create a list called `flights` containing of the flights.\n",
    "\n",
    "* What part of the dataset contains this information?"
   ]
  },
  {
   "cell_type": "markdown",
   "metadata": {},
   "source": [
    "_Write your notes here. Double-click to edit._"
   ]
  },
  {
   "cell_type": "markdown",
   "metadata": {},
   "source": [
    "* From the `.describe()` output above, we see that the flights in `df[\"FLIGHT\"]` are unique.\n",
    "\n",
    "* We can can convert the Series `df[\"FLIGHT\"]` to a list with the function `list()`. Then we can use the list methods we learned about earlier, such as `.append()`, if necessary."
   ]
  },
  {
   "cell_type": "code",
   "execution_count": null,
   "metadata": {
    "collapsed": true
   },
   "outputs": [],
   "source": [
    "# Take the FLIGHT column from df, convert to a list\n",
    "flights = list(df[\"FLIGHT\"])"
   ]
  },
  {
   "cell_type": "markdown",
   "metadata": {},
   "source": [
    "* Let's inspect the variable `flights` we just created:"
   ]
  },
  {
   "cell_type": "code",
   "execution_count": null,
   "metadata": {
    "collapsed": false
   },
   "outputs": [],
   "source": [
    "# Print flights\n",
    "print(\"Flights: {0}\".format(flights))"
   ]
  },
  {
   "cell_type": "markdown",
   "metadata": {},
   "source": [
    "* You might want to click on the left of the output above &mdash; this will collapse the output so it doesn't take over your browser window.\n",
    "\n",
    "* It's a good idea to make sure nothing funny happened - let's make sure we have the right number of flights in the variable `flights`:"
   ]
  },
  {
   "cell_type": "code",
   "execution_count": null,
   "metadata": {
    "collapsed": false,
    "scrolled": true
   },
   "outputs": [],
   "source": [
    "print(\"Number of flights: {0}\".format(len(flights)))"
   ]
  },
  {
   "cell_type": "markdown",
   "metadata": {},
   "source": [
    "* Let's also create a list of all the airports.\n",
    "\n",
    "* What part of the dataset contains this information?"
   ]
  },
  {
   "cell_type": "markdown",
   "metadata": {},
   "source": [
    "_Write your notes here. Double-click to edit._"
   ]
  },
  {
   "cell_type": "markdown",
   "metadata": {},
   "source": [
    "* To be absolutely sure we have all the airports in the data set, let's create a variable `airports` like this:"
   ]
  },
  {
   "cell_type": "code",
   "execution_count": null,
   "metadata": {
    "collapsed": true
   },
   "outputs": [],
   "source": [
    "# Eliminate all duplicates of the ORIGIN and DEST columns from df, \n",
    "# take their union, convert to a list\n",
    "airports = list(set(df[\"ORIGIN\"]) | set(df[\"DEST\"]))"
   ]
  },
  {
   "cell_type": "markdown",
   "metadata": {},
   "source": [
    "* Roughly speaking, this is what the above code does:\n",
    "    - `set(df[\"ORIGIN\"])` eliminates all duplicates in `df[\"ORIGIN\"]` and returns a list-like object called a __set__.\n",
    "    - Same goes for `set(df[\"DEST\"])`.\n",
    "    - The `|` operator takes the __union__ of the sets `set(df[\"ORIGIN\"])` and `set(df[\"DEST\"])`. This is almost what we want, but...\n",
    "    - Sets are similar to lists, but have their own methods. We can turn the set into a list with the function `list()`."
   ]
  },
  {
   "cell_type": "markdown",
   "metadata": {},
   "source": [
    "* Let's print out the list of airports and the number of airports to make sure everything looks OK:"
   ]
  },
  {
   "cell_type": "code",
   "execution_count": null,
   "metadata": {
    "collapsed": false
   },
   "outputs": [],
   "source": [
    "print('Airports: {0}'.format(airports))\n",
    "print('Number of airports: {0}'.format(len(airports)))"
   ]
  },
  {
   "cell_type": "markdown",
   "metadata": {},
   "source": [
    "### Adding nodes with attributes"
   ]
  },
  {
   "cell_type": "markdown",
   "metadata": {},
   "source": [
    "* Now we're ready to build the shortest path graph. Let's start with an empty directed graph:"
   ]
  },
  {
   "cell_type": "code",
   "execution_count": null,
   "metadata": {
    "collapsed": true
   },
   "outputs": [],
   "source": [
    "# Create empty digraph\n",
    "G = nx.DiGraph()"
   ]
  },
  {
   "cell_type": "markdown",
   "metadata": {},
   "source": [
    "* Next, let's create a \"start\" and \"end\" node."
   ]
  },
  {
   "cell_type": "code",
   "execution_count": null,
   "metadata": {
    "collapsed": false
   },
   "outputs": [],
   "source": [
    "# Create start and end nodes\n",
    "G.add_node(\"start\")\n",
    "G.add_node(\"end\")"
   ]
  },
  {
   "cell_type": "markdown",
   "metadata": {},
   "source": [
    "* Now, we need to add a node for each flight, or each row of our database.\n",
    "\n",
    "* We can quickly iterate through the rows of a DataFrame using the `.itertuples()` method:\n",
    "\n",
    "```python\n",
    "for row in df.itertuples()\n",
    "    # Put some code here\n",
    "    # row.COLUMN_NAME is how you would get the value of \n",
    "    # the column COLUMN_NAME in the current row\n",
    "```\n",
    "\n",
    "* So we can add a node for each flight like this:"
   ]
  },
  {
   "cell_type": "code",
   "execution_count": null,
   "metadata": {
    "collapsed": false
   },
   "outputs": [],
   "source": [
    "# Add a row for each flight\n",
    "for row in df.itertuples():\n",
    "    G.add_node(row.FLIGHT, origin=row.ORIGIN, dest=row.DEST, dep_time=row.DEP_TIME, arr_time=row.ARR_TIME, distance=row.DISTANCE)"
   ]
  },
  {
   "cell_type": "markdown",
   "metadata": {},
   "source": [
    "* Wait &mdash;\n",
    "```python\n",
    "G.add_node(row.FLIGHT)\n",
    "```\n",
    "adds a node whose name is the value of `row.FLIGHT`. What is all the other stuff?\n",
    "\n",
    "* Remember in the last lesson when we added the \"length\" attribute to each edge? Like this?\n",
    "\n",
    "```python\n",
    "G.add_edge(1, 2, length=9)\n",
    "```\n",
    "* We can add attributes to nodes as well. This will come in useful later.\n",
    "\n",
    "* To access a particular attribute of a node, we write something like this:"
   ]
  },
  {
   "cell_type": "code",
   "execution_count": null,
   "metadata": {
    "collapsed": false
   },
   "outputs": [],
   "source": [
    "# Find the departure time of flight \"1-BOS-JFK\"\n",
    "G.node[\"1-BOS-JFK\"][\"dep_time\"]"
   ]
  },
  {
   "cell_type": "markdown",
   "metadata": {},
   "source": [
    "* Note that the departure time is recorded as a __Timestamp__ &mdash; a special `pandas` data structure just fo rdates and times.\n",
    "\n",
    "* To add/subtract from Timestamps, we'll need to use special functions, as we'll see shortly.\n",
    "\n",
    "* This might seem awkward, but if you think about it, working with dates and time is a pain &mdash; you need to keep track of different (non-base-10) units."
   ]
  },
  {
   "cell_type": "markdown",
   "metadata": {},
   "source": [
    "* The `.nodes()` method applied to a `networkx` graph returns a list of its nodes. \n",
    "    - If we input `data=True` into `.nodes()`, it will return the node attribute information as well.\n",
    "\n",
    "* So we can check our work by printing out all the nodes in `G` like this:"
   ]
  },
  {
   "cell_type": "code",
   "execution_count": null,
   "metadata": {
    "collapsed": false
   },
   "outputs": [],
   "source": [
    "# Print all of the nodes in G\n",
    "print(G.nodes(data=True))"
   ]
  },
  {
   "cell_type": "markdown",
   "metadata": {},
   "source": [
    "* The `.number_of_nodes()` method applied to a `networkx` graph &mdash; well, you can guess what it does. Or, you can just try it out:"
   ]
  },
  {
   "cell_type": "code",
   "execution_count": null,
   "metadata": {
    "collapsed": false,
    "scrolled": true
   },
   "outputs": [],
   "source": [
    "# Print number of nodes in G\n",
    "print(G.number_of_nodes())"
   ]
  },
  {
   "cell_type": "markdown",
   "metadata": {},
   "source": [
    "### Adding edges"
   ]
  },
  {
   "cell_type": "markdown",
   "metadata": {},
   "source": [
    "* Now we can check every pair of flight nodes, and check if we need to add an edge between them.\n",
    "    - Remember the length of these edges is the negative of the distance of the first flight.\n",
    "    - To add or subtract times, we need to use `pd.to_timedelta()` &mdash; [here is the documentation](http://pandas.pydata.org/pandas-docs/stable/generated/pandas.to_timedelta.html).\n",
    "    - For example, to subtract 30 minutes, we would write \n",
    "    ```python\n",
    "    some_time_variable - pd.to_timedelta(30, unit=\"m\")\n",
    "    ```"
   ]
  },
  {
   "cell_type": "code",
   "execution_count": null,
   "metadata": {
    "collapsed": false
   },
   "outputs": [],
   "source": [
    "# Iterate through every pair of flight nodes\n",
    "for first in flights:\n",
    "    for second in flights:\n",
    "        \n",
    "        # If the first flight arrives where the second flight departs...\n",
    "        if (G.node[first][\"dest\"] == G.node[second][\"origin\"]):\n",
    "            \n",
    "            # If the first flight arrive 45 minutes before the second flight leaves...\n",
    "            if (G.node[first][\"arr_time\"] + pd.to_timedelta(45, unit=\"m\") < G.node[second][\"dep_time\"]):\n",
    "                G.add_edge(first, second, length=-G.node[first][\"distance\"])"
   ]
  },
  {
   "cell_type": "markdown",
   "metadata": {},
   "source": [
    "* Finally, we need to add edges of length 0:\n",
    "    - from the start node to all flights departing from BWI, and\n",
    "    - from all flights arriving at LAX to the end node."
   ]
  },
  {
   "cell_type": "code",
   "execution_count": null,
   "metadata": {
    "collapsed": false
   },
   "outputs": [],
   "source": [
    "# Iterate through all flights\n",
    "for flight in flights:\n",
    "\n",
    "    # If the flight departs from BWI...\n",
    "    if G.node[flight][\"origin\"] == \"BWI\":\n",
    "        G.add_edge(\"start\", flight, length=0)\n",
    "        \n",
    "    # If the flight arrives at LAX...\n",
    "    if G.node[flight][\"dest\"] == \"LAX\":\n",
    "        G.add_edge(flight, \"end\", length=0)"
   ]
  },
  {
   "cell_type": "markdown",
   "metadata": {},
   "source": [
    "* Similar to `G.nodes()` and `G.number_of_nodes()`, we can check our work with `G.edges()` and `G.number_of_edges()`."
   ]
  },
  {
   "cell_type": "code",
   "execution_count": null,
   "metadata": {
    "collapsed": false
   },
   "outputs": [],
   "source": [
    "# Print all the edges in G, with attribute information\n",
    "G.edges(data=True)"
   ]
  },
  {
   "cell_type": "code",
   "execution_count": null,
   "metadata": {
    "collapsed": false
   },
   "outputs": [],
   "source": [
    "# Print the number of edges in G\n",
    "G.number_of_edges()"
   ]
  },
  {
   "cell_type": "markdown",
   "metadata": {},
   "source": [
    "## Solving the shortest path problem, interpreting the output"
   ]
  },
  {
   "cell_type": "markdown",
   "metadata": {},
   "source": [
    "* Now that we have our directed graph set up, we can solve for the shortest path from the start node to the end node just like we did in the last lesson:"
   ]
  },
  {
   "cell_type": "code",
   "execution_count": null,
   "metadata": {
    "collapsed": false
   },
   "outputs": [],
   "source": [
    "length, nodes, negative_cycle = bf.bellman_ford(G, source=\"start\", target=\"end\", weight=\"length\")\n",
    "\n",
    "print(\"Negative cycle? {0}\".format(negative_cycle))\n",
    "print(\"Shortest path length: {0}\".format(length))\n",
    "print(\"Shortest path: {0}\".format(nodes))"
   ]
  },
  {
   "cell_type": "markdown",
   "metadata": {},
   "source": [
    "* What does the output tell us about Professor Wright's problem?"
   ]
  },
  {
   "cell_type": "markdown",
   "metadata": {},
   "source": [
    "_Write your notes here. Double-click to edit._"
   ]
  }
 ],
 "metadata": {
  "kernelspec": {
   "display_name": "Python 3",
   "language": "python",
   "name": "python3"
  },
  "language_info": {
   "codemirror_mode": {
    "name": "ipython",
    "version": 3
   },
   "file_extension": ".py",
   "mimetype": "text/x-python",
   "name": "python",
   "nbconvert_exporter": "python",
   "pygments_lexer": "ipython3",
   "version": "3.5.2"
  },
  "latex_metadata": {
   "lesson": "6",
   "lessontitle": "The mileage running problem",
   "shortlessontitle": "The mileage running problem"
  }
 },
 "nbformat": 4,
 "nbformat_minor": 1
}
